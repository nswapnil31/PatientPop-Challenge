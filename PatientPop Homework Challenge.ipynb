{
 "cells": [
  {
   "cell_type": "code",
   "execution_count": 1,
   "metadata": {},
   "outputs": [],
   "source": [
    "#PatientPop Data Team Take Home Challenge\n",
    "\n",
    "#Questions:\n",
    "#Do the “long” surveys result in significantly more reviews than the “short” surveys?\n",
    "#Which “long” survey has a greater impact (v1 or v2)?\n",
    "#What kinds of practices do best with “long” survey v1? Would you recommend “long” survey v2 to any specific kinds of practices?\n",
    "#Do ratings change significantly with either “long” survey? How would you predict which practices will have success, defined as at least a 0.3 star increase in their “long” survey average monthly rating vs their “short” survey average monthly rating? \n",
    "#Would you recommend replacing the “short” survey with either (or both) of the “long” surveys for any or all practices? Provide reasons to support your answer. If you do not have enough data to make a recommendation, what additional data would you need?"
   ]
  },
  {
   "cell_type": "code",
   "execution_count": 2,
   "metadata": {},
   "outputs": [],
   "source": [
    "# Import Libraries\n",
    "\n",
    "%matplotlib inline\n",
    "import pandas as pd\n",
    "import numpy as np\n",
    "import matplotlib as mpl\n",
    "from matplotlib import pyplot as plt\n",
    "import seaborn as sns\n",
    "plt.rcParams['figure.figsize'] = 8,4\n",
    "import warnings\n",
    "warnings.filterwarnings('ignore')"
   ]
  },
  {
   "cell_type": "code",
   "execution_count": 3,
   "metadata": {},
   "outputs": [
    {
     "name": "stdout",
     "output_type": "stream",
     "text": [
      "0.24.2\n",
      "1.16.2\n"
     ]
    }
   ],
   "source": [
    "# Libraries Version used as below\n",
    "# python 3.6.8\n",
    "    \n",
    "print(pd.__version__) \n",
    "print(np.__version__)"
   ]
  },
  {
   "cell_type": "code",
   "execution_count": 7,
   "metadata": {},
   "outputs": [
    {
     "name": "stdout",
     "output_type": "stream",
     "text": [
      "410413\n"
     ]
    }
   ],
   "source": [
    "# Read Given Data File\n",
    "\n",
    "reviews = pd.read_csv(\"D:\\\\Off Campus Application\\\\PatientPop\\\\PP_reviews.csv\")\n",
    "print(len(reviews))"
   ]
  },
  {
   "cell_type": "code",
   "execution_count": 8,
   "metadata": {},
   "outputs": [
    {
     "data": {
      "text/html": [
       "<div>\n",
       "<style scoped>\n",
       "    .dataframe tbody tr th:only-of-type {\n",
       "        vertical-align: middle;\n",
       "    }\n",
       "\n",
       "    .dataframe tbody tr th {\n",
       "        vertical-align: top;\n",
       "    }\n",
       "\n",
       "    .dataframe thead th {\n",
       "        text-align: right;\n",
       "    }\n",
       "</style>\n",
       "<table border=\"1\" class=\"dataframe\">\n",
       "  <thead>\n",
       "    <tr style=\"text-align: right;\">\n",
       "      <th></th>\n",
       "      <th>review_id</th>\n",
       "      <th>review_date</th>\n",
       "      <th>rating</th>\n",
       "      <th>practice_id</th>\n",
       "      <th>n_providers</th>\n",
       "      <th>n_providers_surveys</th>\n",
       "      <th>short_start_date</th>\n",
       "      <th>long_start_date</th>\n",
       "      <th>version</th>\n",
       "      <th>city</th>\n",
       "      <th>state</th>\n",
       "      <th>zip</th>\n",
       "      <th>tech_type</th>\n",
       "      <th>specialty</th>\n",
       "      <th>Review_type</th>\n",
       "    </tr>\n",
       "  </thead>\n",
       "  <tbody>\n",
       "    <tr>\n",
       "      <th>0</th>\n",
       "      <td>274252</td>\n",
       "      <td>2017-05-23</td>\n",
       "      <td>5.0</td>\n",
       "      <td>2</td>\n",
       "      <td>1</td>\n",
       "      <td>1</td>\n",
       "      <td>2017-04-13</td>\n",
       "      <td>2017-10-10</td>\n",
       "      <td>v1</td>\n",
       "      <td>Santa Monica</td>\n",
       "      <td>CA</td>\n",
       "      <td>90404</td>\n",
       "      <td>ATHEN</td>\n",
       "      <td>Obstetrician and Gynecologist</td>\n",
       "      <td>Short</td>\n",
       "    </tr>\n",
       "    <tr>\n",
       "      <th>1</th>\n",
       "      <td>267767</td>\n",
       "      <td>2017-12-30</td>\n",
       "      <td>5.0</td>\n",
       "      <td>2</td>\n",
       "      <td>1</td>\n",
       "      <td>1</td>\n",
       "      <td>2017-04-13</td>\n",
       "      <td>2017-10-10</td>\n",
       "      <td>v1</td>\n",
       "      <td>Santa Monica</td>\n",
       "      <td>CA</td>\n",
       "      <td>90404</td>\n",
       "      <td>ATHEN</td>\n",
       "      <td>Obstetrician and Gynecologist</td>\n",
       "      <td>Long</td>\n",
       "    </tr>\n",
       "    <tr>\n",
       "      <th>2</th>\n",
       "      <td>626201</td>\n",
       "      <td>2018-04-03</td>\n",
       "      <td>1.0</td>\n",
       "      <td>2</td>\n",
       "      <td>1</td>\n",
       "      <td>1</td>\n",
       "      <td>2017-04-13</td>\n",
       "      <td>2017-10-10</td>\n",
       "      <td>v1</td>\n",
       "      <td>Santa Monica</td>\n",
       "      <td>CA</td>\n",
       "      <td>90404</td>\n",
       "      <td>ATHEN</td>\n",
       "      <td>Obstetrician and Gynecologist</td>\n",
       "      <td>Long</td>\n",
       "    </tr>\n",
       "    <tr>\n",
       "      <th>3</th>\n",
       "      <td>161319</td>\n",
       "      <td>2017-09-08</td>\n",
       "      <td>5.0</td>\n",
       "      <td>3</td>\n",
       "      <td>1</td>\n",
       "      <td>1</td>\n",
       "      <td>2017-09-03</td>\n",
       "      <td>2018-03-02</td>\n",
       "      <td>v2</td>\n",
       "      <td>Santa Monica</td>\n",
       "      <td>CA</td>\n",
       "      <td>90404</td>\n",
       "      <td>ADVAN</td>\n",
       "      <td>Obstetrician and Gynecologist</td>\n",
       "      <td>Short</td>\n",
       "    </tr>\n",
       "    <tr>\n",
       "      <th>4</th>\n",
       "      <td>275147</td>\n",
       "      <td>2017-09-11</td>\n",
       "      <td>5.0</td>\n",
       "      <td>3</td>\n",
       "      <td>1</td>\n",
       "      <td>1</td>\n",
       "      <td>2017-09-03</td>\n",
       "      <td>2018-03-02</td>\n",
       "      <td>v2</td>\n",
       "      <td>Santa Monica</td>\n",
       "      <td>CA</td>\n",
       "      <td>90404</td>\n",
       "      <td>ADVAN</td>\n",
       "      <td>Obstetrician and Gynecologist</td>\n",
       "      <td>Short</td>\n",
       "    </tr>\n",
       "  </tbody>\n",
       "</table>\n",
       "</div>"
      ],
      "text/plain": [
       "   review_id review_date  rating  practice_id  n_providers  \\\n",
       "0     274252  2017-05-23     5.0            2            1   \n",
       "1     267767  2017-12-30     5.0            2            1   \n",
       "2     626201  2018-04-03     1.0            2            1   \n",
       "3     161319  2017-09-08     5.0            3            1   \n",
       "4     275147  2017-09-11     5.0            3            1   \n",
       "\n",
       "   n_providers_surveys short_start_date long_start_date version          city  \\\n",
       "0                    1       2017-04-13      2017-10-10      v1  Santa Monica   \n",
       "1                    1       2017-04-13      2017-10-10      v1  Santa Monica   \n",
       "2                    1       2017-04-13      2017-10-10      v1  Santa Monica   \n",
       "3                    1       2017-09-03      2018-03-02      v2  Santa Monica   \n",
       "4                    1       2017-09-03      2018-03-02      v2  Santa Monica   \n",
       "\n",
       "  state    zip tech_type                      specialty Review_type  \n",
       "0    CA  90404     ATHEN  Obstetrician and Gynecologist       Short  \n",
       "1    CA  90404     ATHEN  Obstetrician and Gynecologist        Long  \n",
       "2    CA  90404     ATHEN  Obstetrician and Gynecologist        Long  \n",
       "3    CA  90404     ADVAN  Obstetrician and Gynecologist       Short  \n",
       "4    CA  90404     ADVAN  Obstetrician and Gynecologist       Short  "
      ]
     },
     "execution_count": 8,
     "metadata": {},
     "output_type": "execute_result"
    }
   ],
   "source": [
    "reviews.head()"
   ]
  },
  {
   "cell_type": "code",
   "execution_count": 9,
   "metadata": {},
   "outputs": [
    {
     "name": "stdout",
     "output_type": "stream",
     "text": [
      "410411\n"
     ]
    }
   ],
   "source": [
    "# Data Cleaning\n",
    "# Following step eleiminates records in which dates are wrongly typed or greter than todays date\n",
    "\n",
    "reviews = reviews[reviews[\"review_date\"] < '2019-06-01']\n",
    "print(len(reviews))\n"
   ]
  },
  {
   "cell_type": "code",
   "execution_count": 10,
   "metadata": {},
   "outputs": [],
   "source": [
    "# Make a Bool Variable Long to Find Long Reviews\n",
    "reviews[\"Long\"] = reviews[\"review_date\"] >= reviews[\"long_start_date\"]\n"
   ]
  },
  {
   "cell_type": "code",
   "execution_count": 11,
   "metadata": {},
   "outputs": [],
   "source": [
    "# Convert Dates to Datetime objects\n",
    "reviews[\"review_date\"] = pd.to_datetime(reviews[\"review_date\"], format='%Y-%m-%d')\n",
    "reviews[\"long_start_date\"] = pd.to_datetime(reviews[\"long_start_date\"], format=\"%Y-%m-%d\")\n",
    "reviews[\"short_start_date\"] = pd.to_datetime(reviews[\"short_start_date\"], format=\"%Y-%m-%d\")\n"
   ]
  },
  {
   "cell_type": "code",
   "execution_count": 12,
   "metadata": {},
   "outputs": [],
   "source": [
    "# Find Serial Month of the Review From Respective Start Date\n",
    "reviews[\"long_review_month\"] = (reviews[\"review_date\"].dt.to_period('M').astype(int) - \n",
    "                                reviews[\"long_start_date\"].dt.to_period('M').astype(int))*reviews[\"Long\"]\n",
    "reviews[\"short_review_month\"] = (reviews[\"review_date\"].dt.to_period('M').astype(int) - \n",
    "                                 reviews[\"short_start_date\"].dt.to_period('M').astype(int))*(1 - reviews[\"Long\"])\n",
    "reviews[\"month\"] = reviews[\"short_review_month\"] + reviews[\"long_review_month\"]"
   ]
  },
  {
   "cell_type": "code",
   "execution_count": 13,
   "metadata": {},
   "outputs": [
    {
     "name": "stdout",
     "output_type": "stream",
     "text": [
      "   review_id review_date  rating  practice_id  n_providers  \\\n",
      "0     274252  2017-05-23     5.0            2            1   \n",
      "1     267767  2017-12-30     5.0            2            1   \n",
      "2     626201  2018-04-03     1.0            2            1   \n",
      "3     161319  2017-09-08     5.0            3            1   \n",
      "4     275147  2017-09-11     5.0            3            1   \n",
      "\n",
      "   n_providers_surveys short_start_date long_start_date version          city  \\\n",
      "0                    1       2017-04-13      2017-10-10      v1  Santa Monica   \n",
      "1                    1       2017-04-13      2017-10-10      v1  Santa Monica   \n",
      "2                    1       2017-04-13      2017-10-10      v1  Santa Monica   \n",
      "3                    1       2017-09-03      2018-03-02      v2  Santa Monica   \n",
      "4                    1       2017-09-03      2018-03-02      v2  Santa Monica   \n",
      "\n",
      "  state    zip tech_type                      specialty Review_type   Long  \\\n",
      "0    CA  90404     ATHEN  Obstetrician and Gynecologist       Short  False   \n",
      "1    CA  90404     ATHEN  Obstetrician and Gynecologist        Long   True   \n",
      "2    CA  90404     ATHEN  Obstetrician and Gynecologist        Long   True   \n",
      "3    CA  90404     ADVAN  Obstetrician and Gynecologist       Short  False   \n",
      "4    CA  90404     ADVAN  Obstetrician and Gynecologist       Short  False   \n",
      "\n",
      "   long_review_month  short_review_month  month  \n",
      "0                  0                   1      1  \n",
      "1                  2                   0      2  \n",
      "2                  6                   0      6  \n",
      "3                  0                   0      0  \n",
      "4                  0                   0      0  \n"
     ]
    }
   ],
   "source": [
    "print(reviews.head())"
   ]
  },
  {
   "cell_type": "code",
   "execution_count": 14,
   "metadata": {},
   "outputs": [
    {
     "name": "stdout",
     "output_type": "stream",
     "text": [
      "<class 'pandas.core.frame.DataFrame'>\n",
      "Int64Index: 410411 entries, 0 to 410412\n",
      "Data columns (total 19 columns):\n",
      "review_id              410411 non-null int64\n",
      "review_date            410411 non-null datetime64[ns]\n",
      "rating                 410411 non-null float64\n",
      "practice_id            410411 non-null int64\n",
      "n_providers            410411 non-null int64\n",
      "n_providers_surveys    410411 non-null int64\n",
      "short_start_date       410411 non-null datetime64[ns]\n",
      "long_start_date        410411 non-null datetime64[ns]\n",
      "version                410411 non-null object\n",
      "city                   410411 non-null object\n",
      "state                  410411 non-null object\n",
      "zip                    410411 non-null int64\n",
      "tech_type              407464 non-null object\n",
      "specialty              378957 non-null object\n",
      "Review_type            410411 non-null object\n",
      "Long                   410411 non-null bool\n",
      "long_review_month      410411 non-null int64\n",
      "short_review_month     410411 non-null int64\n",
      "month                  410411 non-null int64\n",
      "dtypes: bool(1), datetime64[ns](3), float64(1), int64(8), object(6)\n",
      "memory usage: 59.9+ MB\n"
     ]
    }
   ],
   "source": [
    "reviews.info()"
   ]
  },
  {
   "cell_type": "code",
   "execution_count": 15,
   "metadata": {},
   "outputs": [
    {
     "data": {
      "text/html": [
       "<div>\n",
       "<style scoped>\n",
       "    .dataframe tbody tr th:only-of-type {\n",
       "        vertical-align: middle;\n",
       "    }\n",
       "\n",
       "    .dataframe tbody tr th {\n",
       "        vertical-align: top;\n",
       "    }\n",
       "\n",
       "    .dataframe thead th {\n",
       "        text-align: right;\n",
       "    }\n",
       "</style>\n",
       "<table border=\"1\" class=\"dataframe\">\n",
       "  <thead>\n",
       "    <tr style=\"text-align: right;\">\n",
       "      <th></th>\n",
       "      <th>review_id</th>\n",
       "      <th>rating</th>\n",
       "      <th>practice_id</th>\n",
       "      <th>n_providers</th>\n",
       "      <th>n_providers_surveys</th>\n",
       "      <th>zip</th>\n",
       "      <th>long_review_month</th>\n",
       "      <th>short_review_month</th>\n",
       "      <th>month</th>\n",
       "    </tr>\n",
       "  </thead>\n",
       "  <tbody>\n",
       "    <tr>\n",
       "      <th>count</th>\n",
       "      <td>4.104110e+05</td>\n",
       "      <td>410411.000000</td>\n",
       "      <td>410411.000000</td>\n",
       "      <td>410411.000000</td>\n",
       "      <td>410411.000000</td>\n",
       "      <td>410411.000000</td>\n",
       "      <td>410411.000000</td>\n",
       "      <td>410411.000000</td>\n",
       "      <td>410411.00000</td>\n",
       "    </tr>\n",
       "    <tr>\n",
       "      <th>mean</th>\n",
       "      <td>1.143603e+06</td>\n",
       "      <td>3.567966</td>\n",
       "      <td>12097.958870</td>\n",
       "      <td>5.336031</td>\n",
       "      <td>4.238451</td>\n",
       "      <td>53547.166718</td>\n",
       "      <td>4.498798</td>\n",
       "      <td>0.627232</td>\n",
       "      <td>5.12603</td>\n",
       "    </tr>\n",
       "    <tr>\n",
       "      <th>std</th>\n",
       "      <td>5.004609e+05</td>\n",
       "      <td>2.172084</td>\n",
       "      <td>1955.651419</td>\n",
       "      <td>6.909297</td>\n",
       "      <td>6.295070</td>\n",
       "      <td>31017.670248</td>\n",
       "      <td>4.244429</td>\n",
       "      <td>1.510782</td>\n",
       "      <td>3.82806</td>\n",
       "    </tr>\n",
       "    <tr>\n",
       "      <th>min</th>\n",
       "      <td>9.847100e+04</td>\n",
       "      <td>0.000000</td>\n",
       "      <td>2.000000</td>\n",
       "      <td>1.000000</td>\n",
       "      <td>0.000000</td>\n",
       "      <td>1028.000000</td>\n",
       "      <td>0.000000</td>\n",
       "      <td>0.000000</td>\n",
       "      <td>0.00000</td>\n",
       "    </tr>\n",
       "    <tr>\n",
       "      <th>25%</th>\n",
       "      <td>7.317475e+05</td>\n",
       "      <td>1.000000</td>\n",
       "      <td>10796.000000</td>\n",
       "      <td>1.000000</td>\n",
       "      <td>1.000000</td>\n",
       "      <td>23462.000000</td>\n",
       "      <td>1.000000</td>\n",
       "      <td>0.000000</td>\n",
       "      <td>2.00000</td>\n",
       "    </tr>\n",
       "    <tr>\n",
       "      <th>50%</th>\n",
       "      <td>1.218287e+06</td>\n",
       "      <td>5.000000</td>\n",
       "      <td>12100.000000</td>\n",
       "      <td>2.000000</td>\n",
       "      <td>1.000000</td>\n",
       "      <td>60181.000000</td>\n",
       "      <td>3.000000</td>\n",
       "      <td>0.000000</td>\n",
       "      <td>4.00000</td>\n",
       "    </tr>\n",
       "    <tr>\n",
       "      <th>75%</th>\n",
       "      <td>1.620050e+06</td>\n",
       "      <td>5.000000</td>\n",
       "      <td>13418.000000</td>\n",
       "      <td>6.000000</td>\n",
       "      <td>5.000000</td>\n",
       "      <td>78758.000000</td>\n",
       "      <td>8.000000</td>\n",
       "      <td>0.000000</td>\n",
       "      <td>8.00000</td>\n",
       "    </tr>\n",
       "    <tr>\n",
       "      <th>max</th>\n",
       "      <td>1.847052e+06</td>\n",
       "      <td>5.000000</td>\n",
       "      <td>15923.000000</td>\n",
       "      <td>35.000000</td>\n",
       "      <td>33.000000</td>\n",
       "      <td>99701.000000</td>\n",
       "      <td>15.000000</td>\n",
       "      <td>6.000000</td>\n",
       "      <td>15.00000</td>\n",
       "    </tr>\n",
       "  </tbody>\n",
       "</table>\n",
       "</div>"
      ],
      "text/plain": [
       "          review_id         rating    practice_id    n_providers  \\\n",
       "count  4.104110e+05  410411.000000  410411.000000  410411.000000   \n",
       "mean   1.143603e+06       3.567966   12097.958870       5.336031   \n",
       "std    5.004609e+05       2.172084    1955.651419       6.909297   \n",
       "min    9.847100e+04       0.000000       2.000000       1.000000   \n",
       "25%    7.317475e+05       1.000000   10796.000000       1.000000   \n",
       "50%    1.218287e+06       5.000000   12100.000000       2.000000   \n",
       "75%    1.620050e+06       5.000000   13418.000000       6.000000   \n",
       "max    1.847052e+06       5.000000   15923.000000      35.000000   \n",
       "\n",
       "       n_providers_surveys            zip  long_review_month  \\\n",
       "count        410411.000000  410411.000000      410411.000000   \n",
       "mean              4.238451   53547.166718           4.498798   \n",
       "std               6.295070   31017.670248           4.244429   \n",
       "min               0.000000    1028.000000           0.000000   \n",
       "25%               1.000000   23462.000000           1.000000   \n",
       "50%               1.000000   60181.000000           3.000000   \n",
       "75%               5.000000   78758.000000           8.000000   \n",
       "max              33.000000   99701.000000          15.000000   \n",
       "\n",
       "       short_review_month         month  \n",
       "count       410411.000000  410411.00000  \n",
       "mean             0.627232       5.12603  \n",
       "std              1.510782       3.82806  \n",
       "min              0.000000       0.00000  \n",
       "25%              0.000000       2.00000  \n",
       "50%              0.000000       4.00000  \n",
       "75%              0.000000       8.00000  \n",
       "max              6.000000      15.00000  "
      ]
     },
     "execution_count": 15,
     "metadata": {},
     "output_type": "execute_result"
    }
   ],
   "source": [
    "reviews.describe()"
   ]
  },
  {
   "cell_type": "code",
   "execution_count": 16,
   "metadata": {},
   "outputs": [],
   "source": [
    "# Change into category type\n",
    "\n",
    "reviews.version = reviews.version.astype('category')\n",
    "reviews.Review_type = reviews.Review_type.astype('category')"
   ]
  },
  {
   "cell_type": "code",
   "execution_count": 17,
   "metadata": {},
   "outputs": [
    {
     "data": {
      "text/plain": [
       "Long     329755\n",
       "Short     80656\n",
       "Name: Review_type, dtype: int64"
      ]
     },
     "execution_count": 17,
     "metadata": {},
     "output_type": "execute_result"
    }
   ],
   "source": [
    "# Question 1\n",
    "# Count of Review Type\n",
    "\n",
    "Review_count = reviews['Review_type'].value_counts()\n",
    "Review_count"
   ]
  },
  {
   "cell_type": "code",
   "execution_count": 18,
   "metadata": {},
   "outputs": [
    {
     "data": {
      "image/png": "[encoded data removed]",
      "text/plain": [
       "<Figure size 720x360 with 1 Axes>"
      ]
     },
     "metadata": {
      "needs_background": "light"
     },
     "output_type": "display_data"
    }
   ],
   "source": [
    "plt.figure(figsize=(10,5))\n",
    "sns.barplot(Review_count.index, Review_count.values, alpha=0.8)\n",
    "plt.title('Review Type')\n",
    "plt.ylabel('Number of Occurrences', fontsize=12)\n",
    "plt.xlabel('Review Type', fontsize=12)\n",
    "plt.show()"
   ]
  },
  {
   "cell_type": "markdown",
   "metadata": {},
   "source": [
    "-----"
   ]
  },
  {
   "cell_type": "markdown",
   "metadata": {},
   "source": [
    "-----"
   ]
  },
  {
   "cell_type": "code",
   "execution_count": 19,
   "metadata": {},
   "outputs": [],
   "source": [
    "\n",
    "# Select Required Fields from Reviews\n",
    "df1 = reviews.filter([\"practice_id\", \"Long\", \"version\", \"month\"])\n",
    "\n",
    "# Group df1 and Find counts of each group\n",
    "df2 = df1.groupby([\"practice_id\", \"Long\", \"version\", \"month\"]).size().reset_index()\n",
    "df2.columns = [\"practice_id\", \"Long\", \"version\", \"month\", \"count\"]\n",
    "\n",
    "# Split df2 into Short, Long v1 and Long v2 Surveys\n",
    "df2_short = df2.loc[df2[\"Long\"] == False]\n",
    "df2_long = df2.loc[(df2[\"Long\"] == True)]\n",
    "df2_long_v1 = df2_long.loc[df2_long[\"version\"] == \"v1\"]\n",
    "df2_long_v2 = df2_long.loc[df2_long[\"version\"] == \"v2\"]"
   ]
  },
  {
   "cell_type": "code",
   "execution_count": 20,
   "metadata": {},
   "outputs": [
    {
     "name": "stdout",
     "output_type": "stream",
     "text": [
      "Short reviews generated per month: 5.62\n"
     ]
    },
    {
     "data": {
      "image/png": "[encoded data removed]",
      "text/plain": [
       "<Figure size 432x288 with 1 Axes>"
      ]
     },
     "metadata": {
      "needs_background": "light"
     },
     "output_type": "display_data"
    }
   ],
   "source": [
    "# Find Average Monthly Reviews Generated by Short Reviews\n",
    "df3 = df2_short.filter([\"practice_id\", \"month\", \"count\"])\n",
    "print(\"Short reviews generated per month: %.2f\" % df3[\"count\"].mean())\n",
    "# Plot Graph\n",
    "plt.scatter(df3[\"month\"], df3[\"count\"], c = df3[\"practice_id\"])\n",
    "plt.title(\"Response to Short Reviews\")\n",
    "plt.xlabel(\"Months\")\n",
    "plt.ylabel(\"Counts\")\n",
    "plt.show()\n"
   ]
  },
  {
   "cell_type": "code",
   "execution_count": 21,
   "metadata": {},
   "outputs": [
    {
     "name": "stdout",
     "output_type": "stream",
     "text": [
      "Long v1 reviews generated per month: 6.52\n"
     ]
    },
    {
     "data": {
      "image/png": "[encoded data removed]",
      "text/plain": [
       "<Figure size 432x288 with 1 Axes>"
      ]
     },
     "metadata": {
      "needs_background": "light"
     },
     "output_type": "display_data"
    }
   ],
   "source": [
    "# Find Average Monthly Long v1 reviews\n",
    "df3 = df2_long_v1.filter([\"practice_id\", \"month\", \"count\"])\n",
    "print(\"Long v1 reviews generated per month: %.2f\" % df3[\"count\"].mean())\n",
    "\n",
    "# Plot Graph\n",
    "plt.scatter(df3[\"month\"], df3[\"count\"], c = df3[\"month\"])\n",
    "plt.title(\"Response to Long Reviews: v1\")\n",
    "plt.xlabel(\"Months\")\n",
    "plt.ylabel(\"Counts\")\n",
    "plt.show()"
   ]
  },
  {
   "cell_type": "code",
   "execution_count": 22,
   "metadata": {},
   "outputs": [
    {
     "name": "stdout",
     "output_type": "stream",
     "text": [
      "Long v2 reviews generated per month: 29.22\n"
     ]
    },
    {
     "data": {
      "image/png": "[encoded data removed]",
      "text/plain": [
       "<Figure size 432x288 with 1 Axes>"
      ]
     },
     "metadata": {
      "needs_background": "light"
     },
     "output_type": "display_data"
    }
   ],
   "source": [
    "# Find monthly average v2 review\n",
    "df3 = df2_long_v2.filter([\"practice_id\", \"month\", \"count\"])\n",
    "print(\"Long v2 reviews generated per month: %.2f\" % df3[\"count\"].mean())\n",
    "\n",
    "# Plot\n",
    "plt.scatter(df3[\"month\"], df3[\"count\"], c = df3[\"practice_id\"])\n",
    "plt.title(\"Response to Long Reviews v2\")\n",
    "plt.xlabel(\"Months\")\n",
    "plt.ylabel(\"Counts\")\n",
    "plt.show()"
   ]
  },
  {
   "cell_type": "code",
   "execution_count": 23,
   "metadata": {},
   "outputs": [
    {
     "name": "stdout",
     "output_type": "stream",
     "text": [
      "                         specialty  level  count\n",
      "114  Obstetrician and Gynecologist      0  19359\n",
      "39                   Dermatologist      4  11672\n",
      "54                 General Dentist      1  10655\n",
      "27                    Chiropractor     20   8652\n",
      "58            General Practitioner      3   7684\n",
      "176                     Podiatrist      9   7188\n",
      "158                   Pediatrician     33   6655\n",
      "83                       Internist     32   5803\n",
      "93                     Medical Spa     47   4647\n",
      "140             Orthopedic Surgeon      8   4336\n",
      "172                Plastic Surgeon      7   4186\n",
      "128                    Optometrist      2   3914\n",
      "124                Ophthalmologist      6   3704\n",
      "150     Pain Management Specialist     18   3430\n",
      "50              Gastroenterologist     17   3147\n",
      "35                Cosmetic Dentist     11   2555\n",
      "89                  Medical Clinic     48   2332\n",
      "146               Otolaryngologist      5   2311\n"
     ]
    }
   ],
   "source": [
    "# Question 2\n",
    "# Collect desired fields\n",
    "df1 = reviews.filter([\"specialty\", \"Long\", \"version\", \"month\", \"rating\"])\n",
    "\n",
    "# Find Unique Specialty Names\n",
    "names = list(df1[\"specialty\"].unique())\n",
    "\n",
    "# Create a new column of level = index of specialty in names list\n",
    "names_dict = {name: idx for idx, name in enumerate(names)}\n",
    "def levels(s1):\n",
    "    return names_dict[s1]\n",
    "df1[\"level\"] = df1[\"specialty\"].apply(levels)\n",
    "\n",
    "# Find counts of groups\n",
    "df2 = df1.groupby([\"specialty\", \"level\", \"Long\", \"version\"]).size().reset_index()\n",
    "df2.columns = [\"specialty\", \"level\", \"Long\", \"version\", \"count\"]\n",
    "\n",
    "# Split df2 by Long v1 and Long v2\n",
    "df2_long = df2.loc[(df2[\"Long\"] == True)]\n",
    "df2_long_v1 = df2_long.loc[df2_long[\"version\"] == \"v1\"]\n",
    "df2_long_v2 = df2_long.loc[df2_long[\"version\"] == \"v2\"]\n",
    "\n",
    "# Choose records Long v1 reviews\n",
    "df3 = df2_long_v1.filter([\"specialty\", \"level\", \"count\"])\n",
    "df3 = df3.loc[df3[\"count\"] > 2000]\n",
    "df3.sort_values([\"count\"], ascending = False, inplace=True)\n",
    "print(df3)"
   ]
  },
  {
   "cell_type": "code",
   "execution_count": 24,
   "metadata": {},
   "outputs": [
    {
     "name": "stdout",
     "output_type": "stream",
     "text": [
      "                         specialty  level  count\n",
      "115  Obstetrician and Gynecologist      0  74324\n",
      "55                 General Dentist      1  16463\n",
      "141             Orthopedic Surgeon      8  13091\n",
      "159                   Pediatrician     33   7884\n",
      "40                   Dermatologist      4   6885\n",
      "84                       Internist     32   6124\n",
      "59            General Practitioner      3   5744\n",
      "177                     Podiatrist      9   5606\n",
      "36                Cosmetic Dentist     11   5453\n",
      "125                Ophthalmologist      6   3582\n",
      "51              Gastroenterologist     17   2743\n",
      "28                    Chiropractor     20   2579\n",
      "151     Pain Management Specialist     18   2413\n",
      "203      Sleep Medicine Specialist     49   2074\n",
      "155              Pediatric Dentist     25   2072\n"
     ]
    }
   ],
   "source": [
    "# Repeat for Long v2 Reviews\n",
    "df3 = df2_long_v2.filter([\"specialty\", \"level\", \"count\"])\n",
    "df3 = df3.loc[df3[\"count\"] > 2000]\n",
    "df3.sort_values([\"count\"], ascending = False, inplace=True)\n",
    "print(df3)"
   ]
  },
  {
   "cell_type": "code",
   "execution_count": 25,
   "metadata": {},
   "outputs": [
    {
     "name": "stdout",
     "output_type": "stream",
     "text": [
      "                        specialty  short_rating  long_rating\n",
      "1   Addiction Medicine Specialist      3.750000     4.131579\n",
      "21  Infectious Disease Specialist      1.823529     3.500000\n",
      "55                    Radiologist      2.866667     3.369444\n"
     ]
    }
   ],
   "source": [
    "# Question 3\n",
    "# Choose desired fields\n",
    "df1 = reviews.filter([\"specialty\", \"Long\", \"rating\"])\n",
    "df1[\"rating\"] = pd.to_numeric(df1[\"rating\"])\n",
    "\n",
    "# Find average rating of each group\n",
    "df2 = df1.groupby([\"specialty\", \"Long\"]).mean().reset_index()\n",
    "\n",
    "# Isolate short reviews\n",
    "df2_short = df2[df2[\"Long\"] == False]\n",
    "df2_short.reset_index(inplace=True, drop=True)\n",
    "\n",
    "# Isolate long reviews\n",
    "df2_long = df2[df2[\"Long\"] == True]\n",
    "df2_long.reset_index(inplace=True, drop=True)\n",
    "\n",
    "# Build new dataframe of desired fields\n",
    "df3 = df2_short.filter([\"specialty\", \"rating\"])\n",
    "df3.rename(columns={\"rating\": \"short_rating\"}, inplace=True)\n",
    "df3[\"long_rating\"] = df2_long[\"rating\"]\n",
    "\n",
    "# Select Long reviews getting more than 0.3 stars over Short reviews\n",
    "df4 = df3.loc[df3[\"long_rating\"] >= df3[\"short_rating\"] + 0.3]\n",
    "print(df4)"
   ]
  },
  {
   "cell_type": "code",
   "execution_count": 26,
   "metadata": {},
   "outputs": [
    {
     "name": "stdout",
     "output_type": "stream",
     "text": [
      "                        specialty  short_rating  long_rating\n",
      "1   Addiction Medicine Specialist      3.750000     4.131579\n",
      "3                Anesthesiologist      3.242857     3.369231\n",
      "21  Infectious Disease Specialist      1.823529     3.500000\n",
      "27                   Nephrologist      3.062500     3.264127\n",
      "54                  Pulmonologist      2.785714     2.952941\n",
      "55                    Radiologist      2.866667     3.369444\n"
     ]
    }
   ],
   "source": [
    "# Question 4\n",
    "# Select records with higher long rating than short rating\n",
    "df4 = df3.loc[df3[\"long_rating\"] > df3[\"short_rating\"]]\n",
    "print(df4)"
   ]
  },
  {
   "cell_type": "code",
   "execution_count": null,
   "metadata": {},
   "outputs": [],
   "source": []
  }
 ],
 "metadata": {
  "kernelspec": {
   "display_name": "Python 3",
   "language": "python",
   "name": "python3"
  },
  "language_info": {
   "codemirror_mode": {
    "name": "ipython",
    "version": 3
   },
   "file_extension": ".py",
   "mimetype": "text/x-python",
   "name": "python",
   "nbconvert_exporter": "python",
   "pygments_lexer": "ipython3",
   "version": "3.7.3"
  }
 },
 "nbformat": 4,
 "nbformat_minor": 2
}
